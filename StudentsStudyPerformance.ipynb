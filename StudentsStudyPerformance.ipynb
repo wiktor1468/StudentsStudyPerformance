{
  "nbformat": 4,
  "nbformat_minor": 0,
  "metadata": {
    "colab": {
      "provenance": [],
      "mount_file_id": "1xJm1E4dFQi8WMJjI4j9bIh2XpkwQ8DRx",
      "authorship_tag": "ABX9TyNsBhedi9iHBcm+6cMh3Mbj",
      "include_colab_link": true
    },
    "kernelspec": {
      "name": "python3",
      "display_name": "Python 3"
    },
    "language_info": {
      "name": "python"
    }
  },
  "cells": [
    {
      "cell_type": "markdown",
      "metadata": {
        "id": "view-in-github",
        "colab_type": "text"
      },
      "source": [
        "<a href=\"https://colab.research.google.com/github/wiktor1468/StudentsStudyPerformance/blob/main/StudentsStudyPerformance.ipynb\" target=\"_parent\"><img src=\"https://colab.research.google.com/assets/colab-badge.svg\" alt=\"Open In Colab\"/></a>"
      ]
    },
    {
      "cell_type": "markdown",
      "source": [
        "#Students performance in exams"
      ],
      "metadata": {
        "id": "QvzK-ljbG6SK"
      }
    },
    {
      "cell_type": "markdown",
      "source": [
        "This project shows how the student's performance (test scores) is affected by other variables such as Gender, Ethnicity, Parental level of education, Lunch and Test preparation course."
      ],
      "metadata": {
        "id": "O9Rb2UcTGcPV"
      }
    },
    {
      "cell_type": "markdown",
      "source": [
        "My goal is to understand the influence of the parent's background, test preparation, Gender, Ethnicity and lunch on students' performance"
      ],
      "metadata": {
        "id": "dxHf_vQIJvkQ"
      }
    },
    {
      "cell_type": "markdown",
      "source": [
        "# Workflow stages:\n",
        "\n",
        "1. Exploration of data\n",
        "\n",
        "* Identify numerical, categorical, and alphanumeric features\n",
        "* Understdanding structure and contest\n",
        "\n",
        "2. Check for data leakage\n",
        "3. Data Preprocessing and Feature Engineering\n",
        "* Categorize data and encode categorical features\n",
        "* Creating new features like average_score\n",
        "* Potential standardization\n",
        "4. Data visualization\n",
        "* Visualize relationships between different features and survival using plots(bar plot, scatterplot, histplot, violin plot) and correlation heatmaps\n",
        "5. Linear regression\n",
        "6. Bulding Neural Network Model"
      ],
      "metadata": {
        "id": "zrNZCJh0pK_2"
      }
    },
    {
      "cell_type": "markdown",
      "source": [
        "#Read the csv file\n",
        "Import libraries"
      ],
      "metadata": {
        "id": "JPWJ8M-8KweC"
      }
    },
    {
      "cell_type": "code",
      "execution_count": 1,
      "metadata": {
        "id": "qlPx7iWCGAkf"
      },
      "outputs": [],
      "source": [
        "import pandas as pd\n",
        "import seaborn as sns\n",
        "\n",
        "df= pd.read_csv('/content/drive/MyDrive/ML/study_performance.csv')"
      ]
    },
    {
      "cell_type": "code",
      "source": [
        "pd.set_option('display.max_columns',None)# this makes head() function to show all columns\n",
        "df.head()"
      ],
      "metadata": {
        "id": "ekSnFyAlLYeT",
        "colab": {
          "base_uri": "https://localhost:8080/",
          "height": 206
        },
        "outputId": "d719226c-ba64-4088-ef47-c13f06fd096c"
      },
      "execution_count": 2,
      "outputs": [
        {
          "output_type": "execute_result",
          "data": {
            "text/plain": [
              "   gender race_ethnicity parental_level_of_education         lunch  \\\n",
              "0  female        group B           bachelor's degree      standard   \n",
              "1  female        group C                some college      standard   \n",
              "2  female        group B             master's degree      standard   \n",
              "3    male        group A          associate's degree  free/reduced   \n",
              "4    male        group C                some college      standard   \n",
              "\n",
              "  test_preparation_course  math_score  reading_score  writing_score  \n",
              "0                    none          72             72             74  \n",
              "1               completed          69             90             88  \n",
              "2                    none          90             95             93  \n",
              "3                    none          47             57             44  \n",
              "4                    none          76             78             75  "
            ],
            "text/html": [
              "\n",
              "  <div id=\"df-503672a3-a342-4ce4-ba7d-a57943988880\" class=\"colab-df-container\">\n",
              "    <div>\n",
              "<style scoped>\n",
              "    .dataframe tbody tr th:only-of-type {\n",
              "        vertical-align: middle;\n",
              "    }\n",
              "\n",
              "    .dataframe tbody tr th {\n",
              "        vertical-align: top;\n",
              "    }\n",
              "\n",
              "    .dataframe thead th {\n",
              "        text-align: right;\n",
              "    }\n",
              "</style>\n",
              "<table border=\"1\" class=\"dataframe\">\n",
              "  <thead>\n",
              "    <tr style=\"text-align: right;\">\n",
              "      <th></th>\n",
              "      <th>gender</th>\n",
              "      <th>race_ethnicity</th>\n",
              "      <th>parental_level_of_education</th>\n",
              "      <th>lunch</th>\n",
              "      <th>test_preparation_course</th>\n",
              "      <th>math_score</th>\n",
              "      <th>reading_score</th>\n",
              "      <th>writing_score</th>\n",
              "    </tr>\n",
              "  </thead>\n",
              "  <tbody>\n",
              "    <tr>\n",
              "      <th>0</th>\n",
              "      <td>female</td>\n",
              "      <td>group B</td>\n",
              "      <td>bachelor's degree</td>\n",
              "      <td>standard</td>\n",
              "      <td>none</td>\n",
              "      <td>72</td>\n",
              "      <td>72</td>\n",
              "      <td>74</td>\n",
              "    </tr>\n",
              "    <tr>\n",
              "      <th>1</th>\n",
              "      <td>female</td>\n",
              "      <td>group C</td>\n",
              "      <td>some college</td>\n",
              "      <td>standard</td>\n",
              "      <td>completed</td>\n",
              "      <td>69</td>\n",
              "      <td>90</td>\n",
              "      <td>88</td>\n",
              "    </tr>\n",
              "    <tr>\n",
              "      <th>2</th>\n",
              "      <td>female</td>\n",
              "      <td>group B</td>\n",
              "      <td>master's degree</td>\n",
              "      <td>standard</td>\n",
              "      <td>none</td>\n",
              "      <td>90</td>\n",
              "      <td>95</td>\n",
              "      <td>93</td>\n",
              "    </tr>\n",
              "    <tr>\n",
              "      <th>3</th>\n",
              "      <td>male</td>\n",
              "      <td>group A</td>\n",
              "      <td>associate's degree</td>\n",
              "      <td>free/reduced</td>\n",
              "      <td>none</td>\n",
              "      <td>47</td>\n",
              "      <td>57</td>\n",
              "      <td>44</td>\n",
              "    </tr>\n",
              "    <tr>\n",
              "      <th>4</th>\n",
              "      <td>male</td>\n",
              "      <td>group C</td>\n",
              "      <td>some college</td>\n",
              "      <td>standard</td>\n",
              "      <td>none</td>\n",
              "      <td>76</td>\n",
              "      <td>78</td>\n",
              "      <td>75</td>\n",
              "    </tr>\n",
              "  </tbody>\n",
              "</table>\n",
              "</div>\n",
              "    <div class=\"colab-df-buttons\">\n",
              "\n",
              "  <div class=\"colab-df-container\">\n",
              "    <button class=\"colab-df-convert\" onclick=\"convertToInteractive('df-503672a3-a342-4ce4-ba7d-a57943988880')\"\n",
              "            title=\"Convert this dataframe to an interactive table.\"\n",
              "            style=\"display:none;\">\n",
              "\n",
              "  <svg xmlns=\"http://www.w3.org/2000/svg\" height=\"24px\" viewBox=\"0 -960 960 960\">\n",
              "    <path d=\"M120-120v-720h720v720H120Zm60-500h600v-160H180v160Zm220 220h160v-160H400v160Zm0 220h160v-160H400v160ZM180-400h160v-160H180v160Zm440 0h160v-160H620v160ZM180-180h160v-160H180v160Zm440 0h160v-160H620v160Z\"/>\n",
              "  </svg>\n",
              "    </button>\n",
              "\n",
              "  <style>\n",
              "    .colab-df-container {\n",
              "      display:flex;\n",
              "      gap: 12px;\n",
              "    }\n",
              "\n",
              "    .colab-df-convert {\n",
              "      background-color: #E8F0FE;\n",
              "      border: none;\n",
              "      border-radius: 50%;\n",
              "      cursor: pointer;\n",
              "      display: none;\n",
              "      fill: #1967D2;\n",
              "      height: 32px;\n",
              "      padding: 0 0 0 0;\n",
              "      width: 32px;\n",
              "    }\n",
              "\n",
              "    .colab-df-convert:hover {\n",
              "      background-color: #E2EBFA;\n",
              "      box-shadow: 0px 1px 2px rgba(60, 64, 67, 0.3), 0px 1px 3px 1px rgba(60, 64, 67, 0.15);\n",
              "      fill: #174EA6;\n",
              "    }\n",
              "\n",
              "    .colab-df-buttons div {\n",
              "      margin-bottom: 4px;\n",
              "    }\n",
              "\n",
              "    [theme=dark] .colab-df-convert {\n",
              "      background-color: #3B4455;\n",
              "      fill: #D2E3FC;\n",
              "    }\n",
              "\n",
              "    [theme=dark] .colab-df-convert:hover {\n",
              "      background-color: #434B5C;\n",
              "      box-shadow: 0px 1px 3px 1px rgba(0, 0, 0, 0.15);\n",
              "      filter: drop-shadow(0px 1px 2px rgba(0, 0, 0, 0.3));\n",
              "      fill: #FFFFFF;\n",
              "    }\n",
              "  </style>\n",
              "\n",
              "    <script>\n",
              "      const buttonEl =\n",
              "        document.querySelector('#df-503672a3-a342-4ce4-ba7d-a57943988880 button.colab-df-convert');\n",
              "      buttonEl.style.display =\n",
              "        google.colab.kernel.accessAllowed ? 'block' : 'none';\n",
              "\n",
              "      async function convertToInteractive(key) {\n",
              "        const element = document.querySelector('#df-503672a3-a342-4ce4-ba7d-a57943988880');\n",
              "        const dataTable =\n",
              "          await google.colab.kernel.invokeFunction('convertToInteractive',\n",
              "                                                    [key], {});\n",
              "        if (!dataTable) return;\n",
              "\n",
              "        const docLinkHtml = 'Like what you see? Visit the ' +\n",
              "          '<a target=\"_blank\" href=https://colab.research.google.com/notebooks/data_table.ipynb>data table notebook</a>'\n",
              "          + ' to learn more about interactive tables.';\n",
              "        element.innerHTML = '';\n",
              "        dataTable['output_type'] = 'display_data';\n",
              "        await google.colab.output.renderOutput(dataTable, element);\n",
              "        const docLink = document.createElement('div');\n",
              "        docLink.innerHTML = docLinkHtml;\n",
              "        element.appendChild(docLink);\n",
              "      }\n",
              "    </script>\n",
              "  </div>\n",
              "\n",
              "\n",
              "<div id=\"df-35f6ba5c-e8dc-43e1-a285-7d797c41ba37\">\n",
              "  <button class=\"colab-df-quickchart\" onclick=\"quickchart('df-35f6ba5c-e8dc-43e1-a285-7d797c41ba37')\"\n",
              "            title=\"Suggest charts\"\n",
              "            style=\"display:none;\">\n",
              "\n",
              "<svg xmlns=\"http://www.w3.org/2000/svg\" height=\"24px\"viewBox=\"0 0 24 24\"\n",
              "     width=\"24px\">\n",
              "    <g>\n",
              "        <path d=\"M19 3H5c-1.1 0-2 .9-2 2v14c0 1.1.9 2 2 2h14c1.1 0 2-.9 2-2V5c0-1.1-.9-2-2-2zM9 17H7v-7h2v7zm4 0h-2V7h2v10zm4 0h-2v-4h2v4z\"/>\n",
              "    </g>\n",
              "</svg>\n",
              "  </button>\n",
              "\n",
              "<style>\n",
              "  .colab-df-quickchart {\n",
              "      --bg-color: #E8F0FE;\n",
              "      --fill-color: #1967D2;\n",
              "      --hover-bg-color: #E2EBFA;\n",
              "      --hover-fill-color: #174EA6;\n",
              "      --disabled-fill-color: #AAA;\n",
              "      --disabled-bg-color: #DDD;\n",
              "  }\n",
              "\n",
              "  [theme=dark] .colab-df-quickchart {\n",
              "      --bg-color: #3B4455;\n",
              "      --fill-color: #D2E3FC;\n",
              "      --hover-bg-color: #434B5C;\n",
              "      --hover-fill-color: #FFFFFF;\n",
              "      --disabled-bg-color: #3B4455;\n",
              "      --disabled-fill-color: #666;\n",
              "  }\n",
              "\n",
              "  .colab-df-quickchart {\n",
              "    background-color: var(--bg-color);\n",
              "    border: none;\n",
              "    border-radius: 50%;\n",
              "    cursor: pointer;\n",
              "    display: none;\n",
              "    fill: var(--fill-color);\n",
              "    height: 32px;\n",
              "    padding: 0;\n",
              "    width: 32px;\n",
              "  }\n",
              "\n",
              "  .colab-df-quickchart:hover {\n",
              "    background-color: var(--hover-bg-color);\n",
              "    box-shadow: 0 1px 2px rgba(60, 64, 67, 0.3), 0 1px 3px 1px rgba(60, 64, 67, 0.15);\n",
              "    fill: var(--button-hover-fill-color);\n",
              "  }\n",
              "\n",
              "  .colab-df-quickchart-complete:disabled,\n",
              "  .colab-df-quickchart-complete:disabled:hover {\n",
              "    background-color: var(--disabled-bg-color);\n",
              "    fill: var(--disabled-fill-color);\n",
              "    box-shadow: none;\n",
              "  }\n",
              "\n",
              "  .colab-df-spinner {\n",
              "    border: 2px solid var(--fill-color);\n",
              "    border-color: transparent;\n",
              "    border-bottom-color: var(--fill-color);\n",
              "    animation:\n",
              "      spin 1s steps(1) infinite;\n",
              "  }\n",
              "\n",
              "  @keyframes spin {\n",
              "    0% {\n",
              "      border-color: transparent;\n",
              "      border-bottom-color: var(--fill-color);\n",
              "      border-left-color: var(--fill-color);\n",
              "    }\n",
              "    20% {\n",
              "      border-color: transparent;\n",
              "      border-left-color: var(--fill-color);\n",
              "      border-top-color: var(--fill-color);\n",
              "    }\n",
              "    30% {\n",
              "      border-color: transparent;\n",
              "      border-left-color: var(--fill-color);\n",
              "      border-top-color: var(--fill-color);\n",
              "      border-right-color: var(--fill-color);\n",
              "    }\n",
              "    40% {\n",
              "      border-color: transparent;\n",
              "      border-right-color: var(--fill-color);\n",
              "      border-top-color: var(--fill-color);\n",
              "    }\n",
              "    60% {\n",
              "      border-color: transparent;\n",
              "      border-right-color: var(--fill-color);\n",
              "    }\n",
              "    80% {\n",
              "      border-color: transparent;\n",
              "      border-right-color: var(--fill-color);\n",
              "      border-bottom-color: var(--fill-color);\n",
              "    }\n",
              "    90% {\n",
              "      border-color: transparent;\n",
              "      border-bottom-color: var(--fill-color);\n",
              "    }\n",
              "  }\n",
              "</style>\n",
              "\n",
              "  <script>\n",
              "    async function quickchart(key) {\n",
              "      const quickchartButtonEl =\n",
              "        document.querySelector('#' + key + ' button');\n",
              "      quickchartButtonEl.disabled = true;  // To prevent multiple clicks.\n",
              "      quickchartButtonEl.classList.add('colab-df-spinner');\n",
              "      try {\n",
              "        const charts = await google.colab.kernel.invokeFunction(\n",
              "            'suggestCharts', [key], {});\n",
              "      } catch (error) {\n",
              "        console.error('Error during call to suggestCharts:', error);\n",
              "      }\n",
              "      quickchartButtonEl.classList.remove('colab-df-spinner');\n",
              "      quickchartButtonEl.classList.add('colab-df-quickchart-complete');\n",
              "    }\n",
              "    (() => {\n",
              "      let quickchartButtonEl =\n",
              "        document.querySelector('#df-35f6ba5c-e8dc-43e1-a285-7d797c41ba37 button');\n",
              "      quickchartButtonEl.style.display =\n",
              "        google.colab.kernel.accessAllowed ? 'block' : 'none';\n",
              "    })();\n",
              "  </script>\n",
              "</div>\n",
              "    </div>\n",
              "  </div>\n"
            ],
            "application/vnd.google.colaboratory.intrinsic+json": {
              "type": "dataframe",
              "variable_name": "df",
              "summary": "{\n  \"name\": \"df\",\n  \"rows\": 1000,\n  \"fields\": [\n    {\n      \"column\": \"gender\",\n      \"properties\": {\n        \"dtype\": \"category\",\n        \"num_unique_values\": 2,\n        \"samples\": [\n          \"male\",\n          \"female\"\n        ],\n        \"semantic_type\": \"\",\n        \"description\": \"\"\n      }\n    },\n    {\n      \"column\": \"race_ethnicity\",\n      \"properties\": {\n        \"dtype\": \"category\",\n        \"num_unique_values\": 5,\n        \"samples\": [\n          \"group C\",\n          \"group E\"\n        ],\n        \"semantic_type\": \"\",\n        \"description\": \"\"\n      }\n    },\n    {\n      \"column\": \"parental_level_of_education\",\n      \"properties\": {\n        \"dtype\": \"category\",\n        \"num_unique_values\": 6,\n        \"samples\": [\n          \"bachelor's degree\",\n          \"some college\"\n        ],\n        \"semantic_type\": \"\",\n        \"description\": \"\"\n      }\n    },\n    {\n      \"column\": \"lunch\",\n      \"properties\": {\n        \"dtype\": \"category\",\n        \"num_unique_values\": 2,\n        \"samples\": [\n          \"free/reduced\",\n          \"standard\"\n        ],\n        \"semantic_type\": \"\",\n        \"description\": \"\"\n      }\n    },\n    {\n      \"column\": \"test_preparation_course\",\n      \"properties\": {\n        \"dtype\": \"category\",\n        \"num_unique_values\": 2,\n        \"samples\": [\n          \"completed\",\n          \"none\"\n        ],\n        \"semantic_type\": \"\",\n        \"description\": \"\"\n      }\n    },\n    {\n      \"column\": \"math_score\",\n      \"properties\": {\n        \"dtype\": \"number\",\n        \"std\": 15,\n        \"min\": 0,\n        \"max\": 100,\n        \"num_unique_values\": 81,\n        \"samples\": [\n          55,\n          72\n        ],\n        \"semantic_type\": \"\",\n        \"description\": \"\"\n      }\n    },\n    {\n      \"column\": \"reading_score\",\n      \"properties\": {\n        \"dtype\": \"number\",\n        \"std\": 14,\n        \"min\": 17,\n        \"max\": 100,\n        \"num_unique_values\": 72,\n        \"samples\": [\n          78,\n          23\n        ],\n        \"semantic_type\": \"\",\n        \"description\": \"\"\n      }\n    },\n    {\n      \"column\": \"writing_score\",\n      \"properties\": {\n        \"dtype\": \"number\",\n        \"std\": 15,\n        \"min\": 10,\n        \"max\": 100,\n        \"num_unique_values\": 77,\n        \"samples\": [\n          75,\n          76\n        ],\n        \"semantic_type\": \"\",\n        \"description\": \"\"\n      }\n    }\n  ]\n}"
            }
          },
          "metadata": {},
          "execution_count": 2
        }
      ]
    },
    {
      "cell_type": "markdown",
      "source": [
        "#Features"
      ],
      "metadata": {
        "id": "wfzabor0M6He"
      }
    },
    {
      "cell_type": "code",
      "source": [
        "df.describe(include='all')"
      ],
      "metadata": {
        "id": "ZsyRd7xcNB38",
        "colab": {
          "base_uri": "https://localhost:8080/",
          "height": 394
        },
        "outputId": "6b0a9c96-2792-4ec8-c2b6-ede1d4c2c218"
      },
      "execution_count": 3,
      "outputs": [
        {
          "output_type": "execute_result",
          "data": {
            "text/plain": [
              "        gender race_ethnicity parental_level_of_education     lunch  \\\n",
              "count     1000           1000                        1000      1000   \n",
              "unique       2              5                           6         2   \n",
              "top     female        group C                some college  standard   \n",
              "freq       518            319                         226       645   \n",
              "mean       NaN            NaN                         NaN       NaN   \n",
              "std        NaN            NaN                         NaN       NaN   \n",
              "min        NaN            NaN                         NaN       NaN   \n",
              "25%        NaN            NaN                         NaN       NaN   \n",
              "50%        NaN            NaN                         NaN       NaN   \n",
              "75%        NaN            NaN                         NaN       NaN   \n",
              "max        NaN            NaN                         NaN       NaN   \n",
              "\n",
              "       test_preparation_course  math_score  reading_score  writing_score  \n",
              "count                     1000  1000.00000    1000.000000    1000.000000  \n",
              "unique                       2         NaN            NaN            NaN  \n",
              "top                       none         NaN            NaN            NaN  \n",
              "freq                       642         NaN            NaN            NaN  \n",
              "mean                       NaN    66.08900      69.169000      68.054000  \n",
              "std                        NaN    15.16308      14.600192      15.195657  \n",
              "min                        NaN     0.00000      17.000000      10.000000  \n",
              "25%                        NaN    57.00000      59.000000      57.750000  \n",
              "50%                        NaN    66.00000      70.000000      69.000000  \n",
              "75%                        NaN    77.00000      79.000000      79.000000  \n",
              "max                        NaN   100.00000     100.000000     100.000000  "
            ],
            "text/html": [
              "\n",
              "  <div id=\"df-cc42df41-11ba-4d34-9b97-2aa67c1bc0b0\" class=\"colab-df-container\">\n",
              "    <div>\n",
              "<style scoped>\n",
              "    .dataframe tbody tr th:only-of-type {\n",
              "        vertical-align: middle;\n",
              "    }\n",
              "\n",
              "    .dataframe tbody tr th {\n",
              "        vertical-align: top;\n",
              "    }\n",
              "\n",
              "    .dataframe thead th {\n",
              "        text-align: right;\n",
              "    }\n",
              "</style>\n",
              "<table border=\"1\" class=\"dataframe\">\n",
              "  <thead>\n",
              "    <tr style=\"text-align: right;\">\n",
              "      <th></th>\n",
              "      <th>gender</th>\n",
              "      <th>race_ethnicity</th>\n",
              "      <th>parental_level_of_education</th>\n",
              "      <th>lunch</th>\n",
              "      <th>test_preparation_course</th>\n",
              "      <th>math_score</th>\n",
              "      <th>reading_score</th>\n",
              "      <th>writing_score</th>\n",
              "    </tr>\n",
              "  </thead>\n",
              "  <tbody>\n",
              "    <tr>\n",
              "      <th>count</th>\n",
              "      <td>1000</td>\n",
              "      <td>1000</td>\n",
              "      <td>1000</td>\n",
              "      <td>1000</td>\n",
              "      <td>1000</td>\n",
              "      <td>1000.00000</td>\n",
              "      <td>1000.000000</td>\n",
              "      <td>1000.000000</td>\n",
              "    </tr>\n",
              "    <tr>\n",
              "      <th>unique</th>\n",
              "      <td>2</td>\n",
              "      <td>5</td>\n",
              "      <td>6</td>\n",
              "      <td>2</td>\n",
              "      <td>2</td>\n",
              "      <td>NaN</td>\n",
              "      <td>NaN</td>\n",
              "      <td>NaN</td>\n",
              "    </tr>\n",
              "    <tr>\n",
              "      <th>top</th>\n",
              "      <td>female</td>\n",
              "      <td>group C</td>\n",
              "      <td>some college</td>\n",
              "      <td>standard</td>\n",
              "      <td>none</td>\n",
              "      <td>NaN</td>\n",
              "      <td>NaN</td>\n",
              "      <td>NaN</td>\n",
              "    </tr>\n",
              "    <tr>\n",
              "      <th>freq</th>\n",
              "      <td>518</td>\n",
              "      <td>319</td>\n",
              "      <td>226</td>\n",
              "      <td>645</td>\n",
              "      <td>642</td>\n",
              "      <td>NaN</td>\n",
              "      <td>NaN</td>\n",
              "      <td>NaN</td>\n",
              "    </tr>\n",
              "    <tr>\n",
              "      <th>mean</th>\n",
              "      <td>NaN</td>\n",
              "      <td>NaN</td>\n",
              "      <td>NaN</td>\n",
              "      <td>NaN</td>\n",
              "      <td>NaN</td>\n",
              "      <td>66.08900</td>\n",
              "      <td>69.169000</td>\n",
              "      <td>68.054000</td>\n",
              "    </tr>\n",
              "    <tr>\n",
              "      <th>std</th>\n",
              "      <td>NaN</td>\n",
              "      <td>NaN</td>\n",
              "      <td>NaN</td>\n",
              "      <td>NaN</td>\n",
              "      <td>NaN</td>\n",
              "      <td>15.16308</td>\n",
              "      <td>14.600192</td>\n",
              "      <td>15.195657</td>\n",
              "    </tr>\n",
              "    <tr>\n",
              "      <th>min</th>\n",
              "      <td>NaN</td>\n",
              "      <td>NaN</td>\n",
              "      <td>NaN</td>\n",
              "      <td>NaN</td>\n",
              "      <td>NaN</td>\n",
              "      <td>0.00000</td>\n",
              "      <td>17.000000</td>\n",
              "      <td>10.000000</td>\n",
              "    </tr>\n",
              "    <tr>\n",
              "      <th>25%</th>\n",
              "      <td>NaN</td>\n",
              "      <td>NaN</td>\n",
              "      <td>NaN</td>\n",
              "      <td>NaN</td>\n",
              "      <td>NaN</td>\n",
              "      <td>57.00000</td>\n",
              "      <td>59.000000</td>\n",
              "      <td>57.750000</td>\n",
              "    </tr>\n",
              "    <tr>\n",
              "      <th>50%</th>\n",
              "      <td>NaN</td>\n",
              "      <td>NaN</td>\n",
              "      <td>NaN</td>\n",
              "      <td>NaN</td>\n",
              "      <td>NaN</td>\n",
              "      <td>66.00000</td>\n",
              "      <td>70.000000</td>\n",
              "      <td>69.000000</td>\n",
              "    </tr>\n",
              "    <tr>\n",
              "      <th>75%</th>\n",
              "      <td>NaN</td>\n",
              "      <td>NaN</td>\n",
              "      <td>NaN</td>\n",
              "      <td>NaN</td>\n",
              "      <td>NaN</td>\n",
              "      <td>77.00000</td>\n",
              "      <td>79.000000</td>\n",
              "      <td>79.000000</td>\n",
              "    </tr>\n",
              "    <tr>\n",
              "      <th>max</th>\n",
              "      <td>NaN</td>\n",
              "      <td>NaN</td>\n",
              "      <td>NaN</td>\n",
              "      <td>NaN</td>\n",
              "      <td>NaN</td>\n",
              "      <td>100.00000</td>\n",
              "      <td>100.000000</td>\n",
              "      <td>100.000000</td>\n",
              "    </tr>\n",
              "  </tbody>\n",
              "</table>\n",
              "</div>\n",
              "    <div class=\"colab-df-buttons\">\n",
              "\n",
              "  <div class=\"colab-df-container\">\n",
              "    <button class=\"colab-df-convert\" onclick=\"convertToInteractive('df-cc42df41-11ba-4d34-9b97-2aa67c1bc0b0')\"\n",
              "            title=\"Convert this dataframe to an interactive table.\"\n",
              "            style=\"display:none;\">\n",
              "\n",
              "  <svg xmlns=\"http://www.w3.org/2000/svg\" height=\"24px\" viewBox=\"0 -960 960 960\">\n",
              "    <path d=\"M120-120v-720h720v720H120Zm60-500h600v-160H180v160Zm220 220h160v-160H400v160Zm0 220h160v-160H400v160ZM180-400h160v-160H180v160Zm440 0h160v-160H620v160ZM180-180h160v-160H180v160Zm440 0h160v-160H620v160Z\"/>\n",
              "  </svg>\n",
              "    </button>\n",
              "\n",
              "  <style>\n",
              "    .colab-df-container {\n",
              "      display:flex;\n",
              "      gap: 12px;\n",
              "    }\n",
              "\n",
              "    .colab-df-convert {\n",
              "      background-color: #E8F0FE;\n",
              "      border: none;\n",
              "      border-radius: 50%;\n",
              "      cursor: pointer;\n",
              "      display: none;\n",
              "      fill: #1967D2;\n",
              "      height: 32px;\n",
              "      padding: 0 0 0 0;\n",
              "      width: 32px;\n",
              "    }\n",
              "\n",
              "    .colab-df-convert:hover {\n",
              "      background-color: #E2EBFA;\n",
              "      box-shadow: 0px 1px 2px rgba(60, 64, 67, 0.3), 0px 1px 3px 1px rgba(60, 64, 67, 0.15);\n",
              "      fill: #174EA6;\n",
              "    }\n",
              "\n",
              "    .colab-df-buttons div {\n",
              "      margin-bottom: 4px;\n",
              "    }\n",
              "\n",
              "    [theme=dark] .colab-df-convert {\n",
              "      background-color: #3B4455;\n",
              "      fill: #D2E3FC;\n",
              "    }\n",
              "\n",
              "    [theme=dark] .colab-df-convert:hover {\n",
              "      background-color: #434B5C;\n",
              "      box-shadow: 0px 1px 3px 1px rgba(0, 0, 0, 0.15);\n",
              "      filter: drop-shadow(0px 1px 2px rgba(0, 0, 0, 0.3));\n",
              "      fill: #FFFFFF;\n",
              "    }\n",
              "  </style>\n",
              "\n",
              "    <script>\n",
              "      const buttonEl =\n",
              "        document.querySelector('#df-cc42df41-11ba-4d34-9b97-2aa67c1bc0b0 button.colab-df-convert');\n",
              "      buttonEl.style.display =\n",
              "        google.colab.kernel.accessAllowed ? 'block' : 'none';\n",
              "\n",
              "      async function convertToInteractive(key) {\n",
              "        const element = document.querySelector('#df-cc42df41-11ba-4d34-9b97-2aa67c1bc0b0');\n",
              "        const dataTable =\n",
              "          await google.colab.kernel.invokeFunction('convertToInteractive',\n",
              "                                                    [key], {});\n",
              "        if (!dataTable) return;\n",
              "\n",
              "        const docLinkHtml = 'Like what you see? Visit the ' +\n",
              "          '<a target=\"_blank\" href=https://colab.research.google.com/notebooks/data_table.ipynb>data table notebook</a>'\n",
              "          + ' to learn more about interactive tables.';\n",
              "        element.innerHTML = '';\n",
              "        dataTable['output_type'] = 'display_data';\n",
              "        await google.colab.output.renderOutput(dataTable, element);\n",
              "        const docLink = document.createElement('div');\n",
              "        docLink.innerHTML = docLinkHtml;\n",
              "        element.appendChild(docLink);\n",
              "      }\n",
              "    </script>\n",
              "  </div>\n",
              "\n",
              "\n",
              "<div id=\"df-1871848e-26da-4f77-96f1-84aa270e06f4\">\n",
              "  <button class=\"colab-df-quickchart\" onclick=\"quickchart('df-1871848e-26da-4f77-96f1-84aa270e06f4')\"\n",
              "            title=\"Suggest charts\"\n",
              "            style=\"display:none;\">\n",
              "\n",
              "<svg xmlns=\"http://www.w3.org/2000/svg\" height=\"24px\"viewBox=\"0 0 24 24\"\n",
              "     width=\"24px\">\n",
              "    <g>\n",
              "        <path d=\"M19 3H5c-1.1 0-2 .9-2 2v14c0 1.1.9 2 2 2h14c1.1 0 2-.9 2-2V5c0-1.1-.9-2-2-2zM9 17H7v-7h2v7zm4 0h-2V7h2v10zm4 0h-2v-4h2v4z\"/>\n",
              "    </g>\n",
              "</svg>\n",
              "  </button>\n",
              "\n",
              "<style>\n",
              "  .colab-df-quickchart {\n",
              "      --bg-color: #E8F0FE;\n",
              "      --fill-color: #1967D2;\n",
              "      --hover-bg-color: #E2EBFA;\n",
              "      --hover-fill-color: #174EA6;\n",
              "      --disabled-fill-color: #AAA;\n",
              "      --disabled-bg-color: #DDD;\n",
              "  }\n",
              "\n",
              "  [theme=dark] .colab-df-quickchart {\n",
              "      --bg-color: #3B4455;\n",
              "      --fill-color: #D2E3FC;\n",
              "      --hover-bg-color: #434B5C;\n",
              "      --hover-fill-color: #FFFFFF;\n",
              "      --disabled-bg-color: #3B4455;\n",
              "      --disabled-fill-color: #666;\n",
              "  }\n",
              "\n",
              "  .colab-df-quickchart {\n",
              "    background-color: var(--bg-color);\n",
              "    border: none;\n",
              "    border-radius: 50%;\n",
              "    cursor: pointer;\n",
              "    display: none;\n",
              "    fill: var(--fill-color);\n",
              "    height: 32px;\n",
              "    padding: 0;\n",
              "    width: 32px;\n",
              "  }\n",
              "\n",
              "  .colab-df-quickchart:hover {\n",
              "    background-color: var(--hover-bg-color);\n",
              "    box-shadow: 0 1px 2px rgba(60, 64, 67, 0.3), 0 1px 3px 1px rgba(60, 64, 67, 0.15);\n",
              "    fill: var(--button-hover-fill-color);\n",
              "  }\n",
              "\n",
              "  .colab-df-quickchart-complete:disabled,\n",
              "  .colab-df-quickchart-complete:disabled:hover {\n",
              "    background-color: var(--disabled-bg-color);\n",
              "    fill: var(--disabled-fill-color);\n",
              "    box-shadow: none;\n",
              "  }\n",
              "\n",
              "  .colab-df-spinner {\n",
              "    border: 2px solid var(--fill-color);\n",
              "    border-color: transparent;\n",
              "    border-bottom-color: var(--fill-color);\n",
              "    animation:\n",
              "      spin 1s steps(1) infinite;\n",
              "  }\n",
              "\n",
              "  @keyframes spin {\n",
              "    0% {\n",
              "      border-color: transparent;\n",
              "      border-bottom-color: var(--fill-color);\n",
              "      border-left-color: var(--fill-color);\n",
              "    }\n",
              "    20% {\n",
              "      border-color: transparent;\n",
              "      border-left-color: var(--fill-color);\n",
              "      border-top-color: var(--fill-color);\n",
              "    }\n",
              "    30% {\n",
              "      border-color: transparent;\n",
              "      border-left-color: var(--fill-color);\n",
              "      border-top-color: var(--fill-color);\n",
              "      border-right-color: var(--fill-color);\n",
              "    }\n",
              "    40% {\n",
              "      border-color: transparent;\n",
              "      border-right-color: var(--fill-color);\n",
              "      border-top-color: var(--fill-color);\n",
              "    }\n",
              "    60% {\n",
              "      border-color: transparent;\n",
              "      border-right-color: var(--fill-color);\n",
              "    }\n",
              "    80% {\n",
              "      border-color: transparent;\n",
              "      border-right-color: var(--fill-color);\n",
              "      border-bottom-color: var(--fill-color);\n",
              "    }\n",
              "    90% {\n",
              "      border-color: transparent;\n",
              "      border-bottom-color: var(--fill-color);\n",
              "    }\n",
              "  }\n",
              "</style>\n",
              "\n",
              "  <script>\n",
              "    async function quickchart(key) {\n",
              "      const quickchartButtonEl =\n",
              "        document.querySelector('#' + key + ' button');\n",
              "      quickchartButtonEl.disabled = true;  // To prevent multiple clicks.\n",
              "      quickchartButtonEl.classList.add('colab-df-spinner');\n",
              "      try {\n",
              "        const charts = await google.colab.kernel.invokeFunction(\n",
              "            'suggestCharts', [key], {});\n",
              "      } catch (error) {\n",
              "        console.error('Error during call to suggestCharts:', error);\n",
              "      }\n",
              "      quickchartButtonEl.classList.remove('colab-df-spinner');\n",
              "      quickchartButtonEl.classList.add('colab-df-quickchart-complete');\n",
              "    }\n",
              "    (() => {\n",
              "      let quickchartButtonEl =\n",
              "        document.querySelector('#df-1871848e-26da-4f77-96f1-84aa270e06f4 button');\n",
              "      quickchartButtonEl.style.display =\n",
              "        google.colab.kernel.accessAllowed ? 'block' : 'none';\n",
              "    })();\n",
              "  </script>\n",
              "</div>\n",
              "    </div>\n",
              "  </div>\n"
            ],
            "application/vnd.google.colaboratory.intrinsic+json": {
              "type": "dataframe",
              "summary": "{\n  \"name\": \"df\",\n  \"rows\": 11,\n  \"fields\": [\n    {\n      \"column\": \"gender\",\n      \"properties\": {\n        \"dtype\": \"category\",\n        \"num_unique_values\": 4,\n        \"samples\": [\n          2,\n          \"518\",\n          \"1000\"\n        ],\n        \"semantic_type\": \"\",\n        \"description\": \"\"\n      }\n    },\n    {\n      \"column\": \"race_ethnicity\",\n      \"properties\": {\n        \"dtype\": \"category\",\n        \"num_unique_values\": 4,\n        \"samples\": [\n          5,\n          \"319\",\n          \"1000\"\n        ],\n        \"semantic_type\": \"\",\n        \"description\": \"\"\n      }\n    },\n    {\n      \"column\": \"parental_level_of_education\",\n      \"properties\": {\n        \"dtype\": \"category\",\n        \"num_unique_values\": 4,\n        \"samples\": [\n          6,\n          \"226\",\n          \"1000\"\n        ],\n        \"semantic_type\": \"\",\n        \"description\": \"\"\n      }\n    },\n    {\n      \"column\": \"lunch\",\n      \"properties\": {\n        \"dtype\": \"category\",\n        \"num_unique_values\": 4,\n        \"samples\": [\n          2,\n          \"645\",\n          \"1000\"\n        ],\n        \"semantic_type\": \"\",\n        \"description\": \"\"\n      }\n    },\n    {\n      \"column\": \"test_preparation_course\",\n      \"properties\": {\n        \"dtype\": \"category\",\n        \"num_unique_values\": 4,\n        \"samples\": [\n          2,\n          \"642\",\n          \"1000\"\n        ],\n        \"semantic_type\": \"\",\n        \"description\": \"\"\n      }\n    },\n    {\n      \"column\": \"math_score\",\n      \"properties\": {\n        \"dtype\": \"number\",\n        \"std\": 335.8676421540409,\n        \"min\": 0.0,\n        \"max\": 1000.0,\n        \"num_unique_values\": 8,\n        \"samples\": [\n          66.089,\n          66.0,\n          1000.0\n        ],\n        \"semantic_type\": \"\",\n        \"description\": \"\"\n      }\n    },\n    {\n      \"column\": \"reading_score\",\n      \"properties\": {\n        \"dtype\": \"number\",\n        \"std\": 334.20047162629425,\n        \"min\": 14.600191937252216,\n        \"max\": 1000.0,\n        \"num_unique_values\": 8,\n        \"samples\": [\n          69.169,\n          70.0,\n          1000.0\n        ],\n        \"semantic_type\": \"\",\n        \"description\": \"\"\n      }\n    },\n    {\n      \"column\": \"writing_score\",\n      \"properties\": {\n        \"dtype\": \"number\",\n        \"std\": 334.8025670597152,\n        \"min\": 10.0,\n        \"max\": 1000.0,\n        \"num_unique_values\": 8,\n        \"samples\": [\n          68.054,\n          69.0,\n          1000.0\n        ],\n        \"semantic_type\": \"\",\n        \"description\": \"\"\n      }\n    }\n  ]\n}"
            }
          },
          "metadata": {},
          "execution_count": 3
        }
      ]
    },
    {
      "cell_type": "markdown",
      "source": [
        "**Numerical features:** math_score, reading_score, writing_score\n",
        "\n",
        "**Categorical Features:** gender, race_ethnicity, parental_level_of_education, lunch, test_preparation_course\n",
        "\n"
      ],
      "metadata": {
        "id": "636dAPaqNMvz"
      }
    },
    {
      "cell_type": "markdown",
      "source": [
        "#Checking for missing data, duplicates"
      ],
      "metadata": {
        "id": "77e0BrA2MwsI"
      }
    },
    {
      "cell_type": "code",
      "source": [
        "df.isnull().sum()\n"
      ],
      "metadata": {
        "id": "TYCMmlj5MzUe",
        "colab": {
          "base_uri": "https://localhost:8080/"
        },
        "outputId": "678a0af3-189c-48f1-f054-fe30c025b02c"
      },
      "execution_count": 4,
      "outputs": [
        {
          "output_type": "execute_result",
          "data": {
            "text/plain": [
              "gender                         0\n",
              "race_ethnicity                 0\n",
              "parental_level_of_education    0\n",
              "lunch                          0\n",
              "test_preparation_course        0\n",
              "math_score                     0\n",
              "reading_score                  0\n",
              "writing_score                  0\n",
              "dtype: int64"
            ]
          },
          "metadata": {},
          "execution_count": 4
        }
      ]
    },
    {
      "cell_type": "markdown",
      "source": [
        "**There are no missing data**"
      ],
      "metadata": {
        "id": "dGyZsxlZ34RP"
      }
    },
    {
      "cell_type": "code",
      "source": [
        "duplicates = df.duplicated().sum()\n",
        "print(\"Total Duplicates:\", duplicates)"
      ],
      "metadata": {
        "colab": {
          "base_uri": "https://localhost:8080/"
        },
        "id": "_VeaRRLqC82r",
        "outputId": "45b81f5e-a0b3-44b0-cf00-711adeba9c6d"
      },
      "execution_count": 5,
      "outputs": [
        {
          "output_type": "stream",
          "name": "stdout",
          "text": [
            "Total Duplicates: 0\n"
          ]
        }
      ]
    },
    {
      "cell_type": "markdown",
      "source": [
        "# Data categorization"
      ],
      "metadata": {
        "id": "jutXHBXR37Zc"
      }
    },
    {
      "cell_type": "markdown",
      "source": [
        "Features which are **Categorical** has to be categorizied.\n",
        "\n",
        "So: gender, race_ethnicity, parental_level_of_education, lunch, test_preparation_course will be set to categories\n",
        "\n",
        "First I have to check wether there are rarely used values. Next step is to devise a strategy for categorizing them differently. This might involve creating a specialized category (\"Others\") where these outlier values can be grouped together. Or those values can join other more popullar ones"
      ],
      "metadata": {
        "id": "wA3xmOcI-RQF"
      }
    },
    {
      "cell_type": "markdown",
      "source": [],
      "metadata": {
        "id": "CFRhl8_FHmY0"
      }
    },
    {
      "cell_type": "markdown",
      "source": [
        "## Gender"
      ],
      "metadata": {
        "id": "vCTc_6UaHlKO"
      }
    },
    {
      "cell_type": "code",
      "source": [
        "df['_gender'] = pd.Categorical(df['gender']).codes\n",
        "df.head()"
      ],
      "metadata": {
        "colab": {
          "base_uri": "https://localhost:8080/",
          "height": 206
        },
        "id": "wyh4nOHnHrE7",
        "outputId": "c561d508-a0e0-4608-b3cc-45170d2070f8"
      },
      "execution_count": 6,
      "outputs": [
        {
          "output_type": "execute_result",
          "data": {
            "text/plain": [
              "   gender race_ethnicity parental_level_of_education         lunch  \\\n",
              "0  female        group B           bachelor's degree      standard   \n",
              "1  female        group C                some college      standard   \n",
              "2  female        group B             master's degree      standard   \n",
              "3    male        group A          associate's degree  free/reduced   \n",
              "4    male        group C                some college      standard   \n",
              "\n",
              "  test_preparation_course  math_score  reading_score  writing_score  _gender  \n",
              "0                    none          72             72             74        0  \n",
              "1               completed          69             90             88        0  \n",
              "2                    none          90             95             93        0  \n",
              "3                    none          47             57             44        1  \n",
              "4                    none          76             78             75        1  "
            ],
            "text/html": [
              "\n",
              "  <div id=\"df-768b3d43-8439-45db-a9a1-227edcb3318e\" class=\"colab-df-container\">\n",
              "    <div>\n",
              "<style scoped>\n",
              "    .dataframe tbody tr th:only-of-type {\n",
              "        vertical-align: middle;\n",
              "    }\n",
              "\n",
              "    .dataframe tbody tr th {\n",
              "        vertical-align: top;\n",
              "    }\n",
              "\n",
              "    .dataframe thead th {\n",
              "        text-align: right;\n",
              "    }\n",
              "</style>\n",
              "<table border=\"1\" class=\"dataframe\">\n",
              "  <thead>\n",
              "    <tr style=\"text-align: right;\">\n",
              "      <th></th>\n",
              "      <th>gender</th>\n",
              "      <th>race_ethnicity</th>\n",
              "      <th>parental_level_of_education</th>\n",
              "      <th>lunch</th>\n",
              "      <th>test_preparation_course</th>\n",
              "      <th>math_score</th>\n",
              "      <th>reading_score</th>\n",
              "      <th>writing_score</th>\n",
              "      <th>_gender</th>\n",
              "    </tr>\n",
              "  </thead>\n",
              "  <tbody>\n",
              "    <tr>\n",
              "      <th>0</th>\n",
              "      <td>female</td>\n",
              "      <td>group B</td>\n",
              "      <td>bachelor's degree</td>\n",
              "      <td>standard</td>\n",
              "      <td>none</td>\n",
              "      <td>72</td>\n",
              "      <td>72</td>\n",
              "      <td>74</td>\n",
              "      <td>0</td>\n",
              "    </tr>\n",
              "    <tr>\n",
              "      <th>1</th>\n",
              "      <td>female</td>\n",
              "      <td>group C</td>\n",
              "      <td>some college</td>\n",
              "      <td>standard</td>\n",
              "      <td>completed</td>\n",
              "      <td>69</td>\n",
              "      <td>90</td>\n",
              "      <td>88</td>\n",
              "      <td>0</td>\n",
              "    </tr>\n",
              "    <tr>\n",
              "      <th>2</th>\n",
              "      <td>female</td>\n",
              "      <td>group B</td>\n",
              "      <td>master's degree</td>\n",
              "      <td>standard</td>\n",
              "      <td>none</td>\n",
              "      <td>90</td>\n",
              "      <td>95</td>\n",
              "      <td>93</td>\n",
              "      <td>0</td>\n",
              "    </tr>\n",
              "    <tr>\n",
              "      <th>3</th>\n",
              "      <td>male</td>\n",
              "      <td>group A</td>\n",
              "      <td>associate's degree</td>\n",
              "      <td>free/reduced</td>\n",
              "      <td>none</td>\n",
              "      <td>47</td>\n",
              "      <td>57</td>\n",
              "      <td>44</td>\n",
              "      <td>1</td>\n",
              "    </tr>\n",
              "    <tr>\n",
              "      <th>4</th>\n",
              "      <td>male</td>\n",
              "      <td>group C</td>\n",
              "      <td>some college</td>\n",
              "      <td>standard</td>\n",
              "      <td>none</td>\n",
              "      <td>76</td>\n",
              "      <td>78</td>\n",
              "      <td>75</td>\n",
              "      <td>1</td>\n",
              "    </tr>\n",
              "  </tbody>\n",
              "</table>\n",
              "</div>\n",
              "    <div class=\"colab-df-buttons\">\n",
              "\n",
              "  <div class=\"colab-df-container\">\n",
              "    <button class=\"colab-df-convert\" onclick=\"convertToInteractive('df-768b3d43-8439-45db-a9a1-227edcb3318e')\"\n",
              "            title=\"Convert this dataframe to an interactive table.\"\n",
              "            style=\"display:none;\">\n",
              "\n",
              "  <svg xmlns=\"http://www.w3.org/2000/svg\" height=\"24px\" viewBox=\"0 -960 960 960\">\n",
              "    <path d=\"M120-120v-720h720v720H120Zm60-500h600v-160H180v160Zm220 220h160v-160H400v160Zm0 220h160v-160H400v160ZM180-400h160v-160H180v160Zm440 0h160v-160H620v160ZM180-180h160v-160H180v160Zm440 0h160v-160H620v160Z\"/>\n",
              "  </svg>\n",
              "    </button>\n",
              "\n",
              "  <style>\n",
              "    .colab-df-container {\n",
              "      display:flex;\n",
              "      gap: 12px;\n",
              "    }\n",
              "\n",
              "    .colab-df-convert {\n",
              "      background-color: #E8F0FE;\n",
              "      border: none;\n",
              "      border-radius: 50%;\n",
              "      cursor: pointer;\n",
              "      display: none;\n",
              "      fill: #1967D2;\n",
              "      height: 32px;\n",
              "      padding: 0 0 0 0;\n",
              "      width: 32px;\n",
              "    }\n",
              "\n",
              "    .colab-df-convert:hover {\n",
              "      background-color: #E2EBFA;\n",
              "      box-shadow: 0px 1px 2px rgba(60, 64, 67, 0.3), 0px 1px 3px 1px rgba(60, 64, 67, 0.15);\n",
              "      fill: #174EA6;\n",
              "    }\n",
              "\n",
              "    .colab-df-buttons div {\n",
              "      margin-bottom: 4px;\n",
              "    }\n",
              "\n",
              "    [theme=dark] .colab-df-convert {\n",
              "      background-color: #3B4455;\n",
              "      fill: #D2E3FC;\n",
              "    }\n",
              "\n",
              "    [theme=dark] .colab-df-convert:hover {\n",
              "      background-color: #434B5C;\n",
              "      box-shadow: 0px 1px 3px 1px rgba(0, 0, 0, 0.15);\n",
              "      filter: drop-shadow(0px 1px 2px rgba(0, 0, 0, 0.3));\n",
              "      fill: #FFFFFF;\n",
              "    }\n",
              "  </style>\n",
              "\n",
              "    <script>\n",
              "      const buttonEl =\n",
              "        document.querySelector('#df-768b3d43-8439-45db-a9a1-227edcb3318e button.colab-df-convert');\n",
              "      buttonEl.style.display =\n",
              "        google.colab.kernel.accessAllowed ? 'block' : 'none';\n",
              "\n",
              "      async function convertToInteractive(key) {\n",
              "        const element = document.querySelector('#df-768b3d43-8439-45db-a9a1-227edcb3318e');\n",
              "        const dataTable =\n",
              "          await google.colab.kernel.invokeFunction('convertToInteractive',\n",
              "                                                    [key], {});\n",
              "        if (!dataTable) return;\n",
              "\n",
              "        const docLinkHtml = 'Like what you see? Visit the ' +\n",
              "          '<a target=\"_blank\" href=https://colab.research.google.com/notebooks/data_table.ipynb>data table notebook</a>'\n",
              "          + ' to learn more about interactive tables.';\n",
              "        element.innerHTML = '';\n",
              "        dataTable['output_type'] = 'display_data';\n",
              "        await google.colab.output.renderOutput(dataTable, element);\n",
              "        const docLink = document.createElement('div');\n",
              "        docLink.innerHTML = docLinkHtml;\n",
              "        element.appendChild(docLink);\n",
              "      }\n",
              "    </script>\n",
              "  </div>\n",
              "\n",
              "\n",
              "<div id=\"df-07bdc02d-1bc0-42b8-b62d-fbfe0cee547f\">\n",
              "  <button class=\"colab-df-quickchart\" onclick=\"quickchart('df-07bdc02d-1bc0-42b8-b62d-fbfe0cee547f')\"\n",
              "            title=\"Suggest charts\"\n",
              "            style=\"display:none;\">\n",
              "\n",
              "<svg xmlns=\"http://www.w3.org/2000/svg\" height=\"24px\"viewBox=\"0 0 24 24\"\n",
              "     width=\"24px\">\n",
              "    <g>\n",
              "        <path d=\"M19 3H5c-1.1 0-2 .9-2 2v14c0 1.1.9 2 2 2h14c1.1 0 2-.9 2-2V5c0-1.1-.9-2-2-2zM9 17H7v-7h2v7zm4 0h-2V7h2v10zm4 0h-2v-4h2v4z\"/>\n",
              "    </g>\n",
              "</svg>\n",
              "  </button>\n",
              "\n",
              "<style>\n",
              "  .colab-df-quickchart {\n",
              "      --bg-color: #E8F0FE;\n",
              "      --fill-color: #1967D2;\n",
              "      --hover-bg-color: #E2EBFA;\n",
              "      --hover-fill-color: #174EA6;\n",
              "      --disabled-fill-color: #AAA;\n",
              "      --disabled-bg-color: #DDD;\n",
              "  }\n",
              "\n",
              "  [theme=dark] .colab-df-quickchart {\n",
              "      --bg-color: #3B4455;\n",
              "      --fill-color: #D2E3FC;\n",
              "      --hover-bg-color: #434B5C;\n",
              "      --hover-fill-color: #FFFFFF;\n",
              "      --disabled-bg-color: #3B4455;\n",
              "      --disabled-fill-color: #666;\n",
              "  }\n",
              "\n",
              "  .colab-df-quickchart {\n",
              "    background-color: var(--bg-color);\n",
              "    border: none;\n",
              "    border-radius: 50%;\n",
              "    cursor: pointer;\n",
              "    display: none;\n",
              "    fill: var(--fill-color);\n",
              "    height: 32px;\n",
              "    padding: 0;\n",
              "    width: 32px;\n",
              "  }\n",
              "\n",
              "  .colab-df-quickchart:hover {\n",
              "    background-color: var(--hover-bg-color);\n",
              "    box-shadow: 0 1px 2px rgba(60, 64, 67, 0.3), 0 1px 3px 1px rgba(60, 64, 67, 0.15);\n",
              "    fill: var(--button-hover-fill-color);\n",
              "  }\n",
              "\n",
              "  .colab-df-quickchart-complete:disabled,\n",
              "  .colab-df-quickchart-complete:disabled:hover {\n",
              "    background-color: var(--disabled-bg-color);\n",
              "    fill: var(--disabled-fill-color);\n",
              "    box-shadow: none;\n",
              "  }\n",
              "\n",
              "  .colab-df-spinner {\n",
              "    border: 2px solid var(--fill-color);\n",
              "    border-color: transparent;\n",
              "    border-bottom-color: var(--fill-color);\n",
              "    animation:\n",
              "      spin 1s steps(1) infinite;\n",
              "  }\n",
              "\n",
              "  @keyframes spin {\n",
              "    0% {\n",
              "      border-color: transparent;\n",
              "      border-bottom-color: var(--fill-color);\n",
              "      border-left-color: var(--fill-color);\n",
              "    }\n",
              "    20% {\n",
              "      border-color: transparent;\n",
              "      border-left-color: var(--fill-color);\n",
              "      border-top-color: var(--fill-color);\n",
              "    }\n",
              "    30% {\n",
              "      border-color: transparent;\n",
              "      border-left-color: var(--fill-color);\n",
              "      border-top-color: var(--fill-color);\n",
              "      border-right-color: var(--fill-color);\n",
              "    }\n",
              "    40% {\n",
              "      border-color: transparent;\n",
              "      border-right-color: var(--fill-color);\n",
              "      border-top-color: var(--fill-color);\n",
              "    }\n",
              "    60% {\n",
              "      border-color: transparent;\n",
              "      border-right-color: var(--fill-color);\n",
              "    }\n",
              "    80% {\n",
              "      border-color: transparent;\n",
              "      border-right-color: var(--fill-color);\n",
              "      border-bottom-color: var(--fill-color);\n",
              "    }\n",
              "    90% {\n",
              "      border-color: transparent;\n",
              "      border-bottom-color: var(--fill-color);\n",
              "    }\n",
              "  }\n",
              "</style>\n",
              "\n",
              "  <script>\n",
              "    async function quickchart(key) {\n",
              "      const quickchartButtonEl =\n",
              "        document.querySelector('#' + key + ' button');\n",
              "      quickchartButtonEl.disabled = true;  // To prevent multiple clicks.\n",
              "      quickchartButtonEl.classList.add('colab-df-spinner');\n",
              "      try {\n",
              "        const charts = await google.colab.kernel.invokeFunction(\n",
              "            'suggestCharts', [key], {});\n",
              "      } catch (error) {\n",
              "        console.error('Error during call to suggestCharts:', error);\n",
              "      }\n",
              "      quickchartButtonEl.classList.remove('colab-df-spinner');\n",
              "      quickchartButtonEl.classList.add('colab-df-quickchart-complete');\n",
              "    }\n",
              "    (() => {\n",
              "      let quickchartButtonEl =\n",
              "        document.querySelector('#df-07bdc02d-1bc0-42b8-b62d-fbfe0cee547f button');\n",
              "      quickchartButtonEl.style.display =\n",
              "        google.colab.kernel.accessAllowed ? 'block' : 'none';\n",
              "    })();\n",
              "  </script>\n",
              "</div>\n",
              "    </div>\n",
              "  </div>\n"
            ],
            "application/vnd.google.colaboratory.intrinsic+json": {
              "type": "dataframe",
              "variable_name": "df",
              "summary": "{\n  \"name\": \"df\",\n  \"rows\": 1000,\n  \"fields\": [\n    {\n      \"column\": \"gender\",\n      \"properties\": {\n        \"dtype\": \"category\",\n        \"num_unique_values\": 2,\n        \"samples\": [\n          \"male\",\n          \"female\"\n        ],\n        \"semantic_type\": \"\",\n        \"description\": \"\"\n      }\n    },\n    {\n      \"column\": \"race_ethnicity\",\n      \"properties\": {\n        \"dtype\": \"category\",\n        \"num_unique_values\": 5,\n        \"samples\": [\n          \"group C\",\n          \"group E\"\n        ],\n        \"semantic_type\": \"\",\n        \"description\": \"\"\n      }\n    },\n    {\n      \"column\": \"parental_level_of_education\",\n      \"properties\": {\n        \"dtype\": \"category\",\n        \"num_unique_values\": 6,\n        \"samples\": [\n          \"bachelor's degree\",\n          \"some college\"\n        ],\n        \"semantic_type\": \"\",\n        \"description\": \"\"\n      }\n    },\n    {\n      \"column\": \"lunch\",\n      \"properties\": {\n        \"dtype\": \"category\",\n        \"num_unique_values\": 2,\n        \"samples\": [\n          \"free/reduced\",\n          \"standard\"\n        ],\n        \"semantic_type\": \"\",\n        \"description\": \"\"\n      }\n    },\n    {\n      \"column\": \"test_preparation_course\",\n      \"properties\": {\n        \"dtype\": \"category\",\n        \"num_unique_values\": 2,\n        \"samples\": [\n          \"completed\",\n          \"none\"\n        ],\n        \"semantic_type\": \"\",\n        \"description\": \"\"\n      }\n    },\n    {\n      \"column\": \"math_score\",\n      \"properties\": {\n        \"dtype\": \"number\",\n        \"std\": 15,\n        \"min\": 0,\n        \"max\": 100,\n        \"num_unique_values\": 81,\n        \"samples\": [\n          55,\n          72\n        ],\n        \"semantic_type\": \"\",\n        \"description\": \"\"\n      }\n    },\n    {\n      \"column\": \"reading_score\",\n      \"properties\": {\n        \"dtype\": \"number\",\n        \"std\": 14,\n        \"min\": 17,\n        \"max\": 100,\n        \"num_unique_values\": 72,\n        \"samples\": [\n          78,\n          23\n        ],\n        \"semantic_type\": \"\",\n        \"description\": \"\"\n      }\n    },\n    {\n      \"column\": \"writing_score\",\n      \"properties\": {\n        \"dtype\": \"number\",\n        \"std\": 15,\n        \"min\": 10,\n        \"max\": 100,\n        \"num_unique_values\": 77,\n        \"samples\": [\n          75,\n          76\n        ],\n        \"semantic_type\": \"\",\n        \"description\": \"\"\n      }\n    },\n    {\n      \"column\": \"_gender\",\n      \"properties\": {\n        \"dtype\": \"int8\",\n        \"num_unique_values\": 2,\n        \"samples\": [\n          1,\n          0\n        ],\n        \"semantic_type\": \"\",\n        \"description\": \"\"\n      }\n    }\n  ]\n}"
            }
          },
          "metadata": {},
          "execution_count": 6
        }
      ]
    },
    {
      "cell_type": "code",
      "source": [
        "print(dict(enumerate(pd.Categorical(df['gender']).categories)))"
      ],
      "metadata": {
        "colab": {
          "base_uri": "https://localhost:8080/"
        },
        "id": "r_VbaE-lIMWC",
        "outputId": "6e31cc99-870a-4cbd-c678-13b04fe0204e"
      },
      "execution_count": 7,
      "outputs": [
        {
          "output_type": "stream",
          "name": "stdout",
          "text": [
            "{0: 'female', 1: 'male'}\n"
          ]
        }
      ]
    },
    {
      "cell_type": "markdown",
      "source": [
        "## Race"
      ],
      "metadata": {
        "id": "hZxoDgsGEVLe"
      }
    },
    {
      "cell_type": "code",
      "source": [
        "race_distribution =(df['race_ethnicity'].value_counts()/len(df)*100) #count the occurrence of a value in a particular column\n",
        "print(race_distribution)"
      ],
      "metadata": {
        "colab": {
          "base_uri": "https://localhost:8080/"
        },
        "id": "H7vjHepb36u8",
        "outputId": "73f80390-23dc-4d29-fa77-4eab4f3087d9"
      },
      "execution_count": 8,
      "outputs": [
        {
          "output_type": "stream",
          "name": "stdout",
          "text": [
            "race_ethnicity\n",
            "group C    31.9\n",
            "group D    26.2\n",
            "group B    19.0\n",
            "group E    14.0\n",
            "group A     8.9\n",
            "Name: count, dtype: float64\n"
          ]
        }
      ]
    },
    {
      "cell_type": "code",
      "source": [
        "countplot = sns.countplot(data = df, x='race_ethnicity',hue='race_ethnicity' )\n",
        "for container in countplot.containers:\n",
        "      countplot.bar_label(container, label_type='edge')"
      ],
      "metadata": {
        "colab": {
          "base_uri": "https://localhost:8080/",
          "height": 450
        },
        "id": "dqKrLncgndDB",
        "outputId": "6a128992-5436-4fa5-da69-addf226626eb"
      },
      "execution_count": 9,
      "outputs": [
        {
          "output_type": "display_data",
          "data": {
            "text/plain": [
              "<Figure size 640x480 with 1 Axes>"
            ],
            "image/png": "[encoded data removed]"
          },
          "metadata": {}
        }
      ]
    },
    {
      "cell_type": "markdown",
      "source": [
        "Group A is a distinct value"
      ],
      "metadata": {
        "id": "AJG2xtHpEapA"
      }
    },
    {
      "cell_type": "code",
      "source": [
        "df['_race_ethnicity'] = pd.Categorical(df.race_ethnicity).codes #converts its values into categorical codes"
      ],
      "metadata": {
        "id": "eckStSpLEkvW"
      },
      "execution_count": 10,
      "outputs": []
    },
    {
      "cell_type": "code",
      "source": [
        "categories_with_codes = dict(enumerate(pd.Categorical(df['race_ethnicity']).categories)) #dictionary where the keys are the numerical codes and the values are the corresponding categories\n",
        "print(categories_with_codes)"
      ],
      "metadata": {
        "colab": {
          "base_uri": "https://localhost:8080/"
        },
        "id": "P3rz48myGieZ",
        "outputId": "54ce132f-13d4-4048-919b-3f9180a3f109"
      },
      "execution_count": 11,
      "outputs": [
        {
          "output_type": "stream",
          "name": "stdout",
          "text": [
            "{0: 'group A', 1: 'group B', 2: 'group C', 3: 'group D', 4: 'group E'}\n"
          ]
        }
      ]
    },
    {
      "cell_type": "markdown",
      "source": [
        "## Parental_level_of_education"
      ],
      "metadata": {
        "id": "ESgzhQwjIYfk"
      }
    },
    {
      "cell_type": "code",
      "source": [
        "print(df['parental_level_of_education'].value_counts())#count the occurrence of a value in a particular column\n",
        "print()\n",
        "parental_level_of_education_distribution =(df['parental_level_of_education'].value_counts()/len(df)*100) #count the occurrence of a value in a particular column\n",
        "print(parental_level_of_education_distribution)"
      ],
      "metadata": {
        "colab": {
          "base_uri": "https://localhost:8080/"
        },
        "id": "BUul5_uT6MV1",
        "outputId": "e80d82a1-4aea-494e-d000-9b11ca1e576d"
      },
      "execution_count": 12,
      "outputs": [
        {
          "output_type": "stream",
          "name": "stdout",
          "text": [
            "parental_level_of_education\n",
            "some college          226\n",
            "associate's degree    222\n",
            "high school           196\n",
            "some high school      179\n",
            "bachelor's degree     118\n",
            "master's degree        59\n",
            "Name: count, dtype: int64\n",
            "\n",
            "parental_level_of_education\n",
            "some college          22.6\n",
            "associate's degree    22.2\n",
            "high school           19.6\n",
            "some high school      17.9\n",
            "bachelor's degree     11.8\n",
            "master's degree        5.9\n",
            "Name: count, dtype: float64\n"
          ]
        }
      ]
    },
    {
      "cell_type": "markdown",
      "source": [
        "Master's degree seems to be rare value, so patterns connected to this category should be watched closely"
      ],
      "metadata": {
        "id": "dgrnKBaf6arR"
      }
    },
    {
      "cell_type": "markdown",
      "source": [],
      "metadata": {
        "id": "Fat4DrhGHfyN"
      }
    },
    {
      "cell_type": "code",
      "source": [
        "df['_parental_level_of_education'] = pd.Categorical(df['parental_level_of_education']).codes #converts its values into categorical codes"
      ],
      "metadata": {
        "id": "WdeJPZLR62En"
      },
      "execution_count": 13,
      "outputs": []
    },
    {
      "cell_type": "code",
      "source": [
        "print(dict(enumerate(pd.Categorical(df['parental_level_of_education']).categories)))"
      ],
      "metadata": {
        "colab": {
          "base_uri": "https://localhost:8080/"
        },
        "id": "VgvY2q_87hiC",
        "outputId": "e6980734-2e2b-48df-9e80-674adebd89a4"
      },
      "execution_count": 14,
      "outputs": [
        {
          "output_type": "stream",
          "name": "stdout",
          "text": [
            "{0: \"associate's degree\", 1: \"bachelor's degree\", 2: 'high school', 3: \"master's degree\", 4: 'some college', 5: 'some high school'}\n"
          ]
        }
      ]
    },
    {
      "cell_type": "markdown",
      "source": [
        "## lunch"
      ],
      "metadata": {
        "id": "498wu_7B8Ed3"
      }
    },
    {
      "cell_type": "code",
      "source": [
        "print(f\"\",df['lunch'].value_counts(), \"\",df['lunch'].value_counts()/len(df)*100)"
      ],
      "metadata": {
        "colab": {
          "base_uri": "https://localhost:8080/"
        },
        "id": "ToQMta1O8jc9",
        "outputId": "2dbfb158-7f3e-494c-aa4b-486f71cecd63"
      },
      "execution_count": 17,
      "outputs": [
        {
          "output_type": "stream",
          "name": "stdout",
          "text": [
            " lunch\n",
            "standard        645\n",
            "free/reduced    355\n",
            "Name: count, dtype: int64  lunch\n",
            "standard        64.5\n",
            "free/reduced    35.5\n",
            "Name: count, dtype: float64\n"
          ]
        }
      ]
    },
    {
      "cell_type": "code",
      "source": [
        "df['_lunch']= pd.Categorical(df['lunch']).codes #converts its values into categorical codes"
      ],
      "metadata": {
        "id": "QncYrW928GvI"
      },
      "execution_count": null,
      "outputs": []
    },
    {
      "cell_type": "code",
      "source": [
        "print(dict(enumerate(pd.Categorical(df['lunch']).categories)))"
      ],
      "metadata": {
        "id": "qhgrbESb8Z5V"
      },
      "execution_count": null,
      "outputs": []
    },
    {
      "cell_type": "markdown",
      "source": [
        "## test preparation"
      ],
      "metadata": {
        "id": "Z5WNbWG5830F"
      }
    },
    {
      "cell_type": "code",
      "source": [
        "df['test_preparation_course'].value_counts()"
      ],
      "metadata": {
        "id": "gjI8clmQ86Y3"
      },
      "execution_count": null,
      "outputs": []
    },
    {
      "cell_type": "code",
      "source": [
        "df['_test_preparation_course']= pd.Categorical(df['test_preparation_course']).codes #converts its values into categorical codes"
      ],
      "metadata": {
        "id": "qEL3CBx79Gu8"
      },
      "execution_count": null,
      "outputs": []
    },
    {
      "cell_type": "code",
      "source": [
        "print(dict(enumerate(pd.Categorical(df['test_preparation_course']).categories)))"
      ],
      "metadata": {
        "id": "GmJ6guLh9QNs"
      },
      "execution_count": null,
      "outputs": []
    },
    {
      "cell_type": "code",
      "source": [
        "df.head()"
      ],
      "metadata": {
        "id": "idKvgsRv-5tI"
      },
      "execution_count": null,
      "outputs": []
    },
    {
      "cell_type": "markdown",
      "source": [
        "# Correaltion heatmap"
      ],
      "metadata": {
        "id": "9FM1Cz5l9-U6"
      }
    },
    {
      "cell_type": "code",
      "source": [
        "cols = ['_gender',\t'_race_ethnicity',\t'_parental_level_of_education',\t'_lunch',\t'_test_preparation_course', 'math_score',\t'reading_score',\t'writing_score' ]\n",
        "corr = df[cols].corr()\n",
        "sns.heatmap(corr, annot=True)"
      ],
      "metadata": {
        "id": "OJiagKgN-UD3"
      },
      "execution_count": null,
      "outputs": []
    },
    {
      "cell_type": "markdown",
      "source": [
        "Lunch(0.29) and test_preparation(0.26) might have impact on reuslts in exams"
      ],
      "metadata": {
        "id": "xwUzZWyENIFm"
      }
    },
    {
      "cell_type": "markdown",
      "source": [
        "# Standardization"
      ],
      "metadata": {
        "id": "aPgH-2E5MTUr"
      }
    },
    {
      "cell_type": "markdown",
      "source": [
        "To choose the best scaler to our data I have to look closely at properties in every column. Important thing is to check if there are **outliers values**\n",
        "*(If some outliers are present in the set, robust scalers or other transformers can be more appropriate)*\n",
        "\n",
        "Visialization of this columns might also be very important to decide what to choose\n",
        "\n",
        "**However in this case there are no outliers values and data plot is similar to a normal distribution plot, so at this point standardization of those columns will be omitted**"
      ],
      "metadata": {
        "id": "Tv3r6g0bEL1n"
      }
    },
    {
      "cell_type": "markdown",
      "source": [
        "# Data visualization"
      ],
      "metadata": {
        "id": "8QzjgGtRAoqD"
      }
    },
    {
      "cell_type": "markdown",
      "source": [
        "## Average score"
      ],
      "metadata": {
        "id": "yfer8awYBaEM"
      }
    },
    {
      "cell_type": "code",
      "source": [
        "\n",
        "df['average_score'] = df[['math_score', 'writing_score', 'reading_score']].mean(axis=1)\n",
        "df.head()"
      ],
      "metadata": {
        "id": "H0W2L-6CBcvW"
      },
      "execution_count": null,
      "outputs": []
    },
    {
      "cell_type": "code",
      "source": [
        "import matplotlib.pyplot as plt\n",
        "\n",
        "\n",
        "sns.histplot(df['math_score'], kde=True) #kde- density plot\n",
        "plt.title('Math')\n",
        "plt.show()\n",
        "sns.histplot(df['writing_score'], kde=True) #kde- density plot\n",
        "plt.title('Writing')\n",
        "plt.show()\n",
        "sns.histplot(df['reading_score'], kde=True) #kde- density plot\n",
        "plt.title('Reading')\n",
        "plt.show()\n",
        "\n",
        "sns.histplot(df['average_score'], kde=True) #kde- density plot\n",
        "plt.title('Average score')\n",
        "plt.show()"
      ],
      "metadata": {
        "id": "6RUE-5rBJ-NW",
        "collapsed": true
      },
      "execution_count": null,
      "outputs": []
    },
    {
      "cell_type": "markdown",
      "source": [
        "## Relation beetwen scores"
      ],
      "metadata": {
        "id": "gGSi-St3Jxl-"
      }
    },
    {
      "cell_type": "code",
      "source": [
        "# Create a figure and subplots\n",
        "fig, axs = plt.subplots(1, 3, figsize=(15, 5))\n",
        "\n",
        "# Scatter plot 1: Math vs Reading\n",
        "df.plot(kind='scatter', x='math_score', y='reading_score', s=32, alpha=.8, ax=axs[0]) #assigns this plot to the first subplot (index 0)\n",
        "axs[0].set_title('Math vs Reading')\n",
        "\n",
        "# Scatter plot 2: Math vs Writing\n",
        "df.plot(kind='scatter', x='math_score', y='writing_score', s=32, alpha=.8, ax=axs[1])\n",
        "axs[1].set_title('Math vs Writing')\n",
        "\n",
        "# Scatter plot 3: Writing vs Reading\n",
        "df.plot(kind='scatter', x='writing_score', y='reading_score', s=32, alpha=.8, ax=axs[2])\n",
        "axs[2].set_title('Writing vs Reading')\n",
        "plt.show()"
      ],
      "metadata": {
        "id": "1fJo0wYVI1ue"
      },
      "execution_count": null,
      "outputs": []
    },
    {
      "cell_type": "code",
      "source": [
        "cols = [ 'math_score',\t'reading_score',\t'writing_score' ]\n",
        "corr = df[cols].corr()\n",
        "sns.heatmap(corr, annot=True)"
      ],
      "metadata": {
        "id": "15Lxgx5RJ5HC"
      },
      "execution_count": null,
      "outputs": []
    },
    {
      "cell_type": "markdown",
      "source": [
        "There are high correlaction beetwen results in every subject. The most correlated is reading vs writing (0.95)"
      ],
      "metadata": {
        "id": "0VcKd57ZKJDw"
      }
    },
    {
      "cell_type": "markdown",
      "source": [],
      "metadata": {
        "id": "XtmeYzb1KmlK"
      }
    },
    {
      "cell_type": "markdown",
      "source": [
        "## Parental education vs average_score"
      ],
      "metadata": {
        "id": "eoW-bJgJOWw6"
      }
    },
    {
      "cell_type": "code",
      "source": [
        "g = sns.FacetGrid(df, hue=\"parental_level_of_education\", height=5, aspect=1)\n",
        "\n",
        "# Map the scatter plot to the FacetGrid\n",
        "g.map(plt.scatter, \"parental_level_of_education\", \"average_score\").add_legend()\n",
        "\n",
        "# Set the title\n",
        "g.fig.suptitle(\"parental level vs average_score\", fontsize=15)\n",
        "plt.xticks(rotation=45)\n",
        "plt.show()"
      ],
      "metadata": {
        "id": "lmSGtjMnOVhI"
      },
      "execution_count": null,
      "outputs": []
    },
    {
      "cell_type": "code",
      "source": [
        "avgs_score = df.groupby('parental_level_of_education')['average_score'].mean()\n",
        "\n",
        "bar_plot_avg= avgs_score.plot(kind='bar')\n",
        "plt.title('Average  Scores by Parental Level of Education')\n",
        "plt.xlabel('Parental Level of Education')\n",
        "plt.ylabel('Average Score')\n",
        "plt.xticks(rotation=45)\n",
        "for i in bar_plot_avg.containers:\n",
        "    bar_plot_avg.bar_label(i, label_type='edge')\n"
      ],
      "metadata": {
        "id": "csGSr98njUu_"
      },
      "execution_count": null,
      "outputs": []
    },
    {
      "cell_type": "markdown",
      "source": [
        "The best performance in exams have childrens whose parents have master's(73,6) or bachelor's(71,9) degree"
      ],
      "metadata": {
        "id": "cgogbZ31NTtP"
      }
    },
    {
      "cell_type": "markdown",
      "source": [
        "## Parental education vs scores in every exam"
      ],
      "metadata": {
        "id": "gBeU4yfve32I"
      }
    },
    {
      "cell_type": "code",
      "source": [
        "scores = ['math_score', 'writing_score', 'reading_score']\n",
        "\n",
        "# Create a figure with subplots arranged in a row\n",
        "fig, axes = plt.subplots(1, len(scores), figsize=(18, 5), sharey=True)\n",
        "\n",
        "# Loop through each score and create the corresponding FacetGrid plot\n",
        "for idx, score in enumerate(scores):\n",
        "    ax = axes[idx]\n",
        "    g = sns.scatterplot(data=df, x=\"parental_level_of_education\", y=score, hue=\"parental_level_of_education\", ax=ax, legend=False)\n",
        "    ax.set_title(f'Parental Level vs {score.capitalize()}')\n",
        "    ax.set_xlabel('Parental Level of Education')\n",
        "    if idx == 0:\n",
        "        ax.set_ylabel('Score')\n",
        "    else:\n",
        "        ax.set_ylabel('')\n",
        "    ax.tick_params(axis='x', rotation=45)\n",
        "\n",
        "# Adjust layout to make room for labels and titles\n",
        "plt.tight_layout()\n",
        "plt.show()"
      ],
      "metadata": {
        "id": "uYqxNOfofUSj"
      },
      "execution_count": null,
      "outputs": []
    },
    {
      "cell_type": "code",
      "source": [
        "scores = ['math_score', 'writing_score', 'reading_score']\n",
        "\n",
        "fig, axes = plt.subplots(1, len(scores), figsize=(18, 6), sharey=True)\n",
        "\n",
        "# Loop through each score and create the corresponding subplot\n",
        "for idx, score in enumerate(scores):\n",
        "    avgs_score = df.groupby('parental_level_of_education')[score].mean()\n",
        "    ax = axes[idx]\n",
        "\n",
        "    # Plotting on the respective subplot\n",
        "    bar_plot_avg = avgs_score.plot(kind='bar', ax=ax)\n",
        "\n",
        "    # Setting the title and labels for each subplot\n",
        "    ax.set_title(f'Average {score.capitalize()}')\n",
        "    ax.set_xlabel('Parental Level of Education')\n",
        "    ax.set_ylabel('Average Score' if idx == 0 else '')  # Only set y-label for the first subplot\n",
        "\n",
        "    # Rotating x-ticks for better readability\n",
        "    ax.set_xticklabels(ax.get_xticklabels(), rotation=45)\n",
        "\n",
        "    # Adding labels to the bars\n",
        "    for container in bar_plot_avg.containers:\n",
        "        bar_plot_avg.bar_label(container, label_type='edge')\n",
        "\n",
        "# Adjust layout to make room for labels and titles\n",
        "plt.tight_layout()\n",
        "plt.show()"
      ],
      "metadata": {
        "id": "GHOavmQVeBJR"
      },
      "execution_count": null,
      "outputs": []
    },
    {
      "cell_type": "code",
      "source": [
        "scores = ['math_score', 'writing_score', 'reading_score']\n",
        "\n",
        "# Create a figure with subplots arranged in a row\n",
        "fig, axes = plt.subplots(1, len(scores), figsize=(18, 6), sharey=True)\n",
        "\n",
        "# Loop through each score and create the corresponding violin plot\n",
        "for idx, score in enumerate(scores):\n",
        "    ax = axes[idx]\n",
        "    sns.violinplot(data=df, x=score, y='parental_level_of_education', hue='parental_level_of_education', ax=ax, inner='box')\n",
        "    ax.set_title(f'{score.capitalize()} by Parental Level of Education')\n",
        "    ax.set_xlabel(f'{score.capitalize()}')\n",
        "    if idx == 0:\n",
        "        ax.set_ylabel('Parental Level of Education')\n",
        "    else:\n",
        "        ax.set_ylabel('')\n",
        "    sns.despine(ax=ax, top=True, right=True, bottom=True, left=True)\n",
        "\n",
        "# Adjust layout to make room for labels and titles\n",
        "plt.tight_layout()\n",
        "plt.show()"
      ],
      "metadata": {
        "id": "3iwCHE70tWvW"
      },
      "execution_count": null,
      "outputs": []
    },
    {
      "cell_type": "markdown",
      "source": [
        "The best performance in math exams have childrens whose parents have master's(69.38) or bachelor's(69,75) degree.\n",
        "However this feature affects the most in writing and reading field"
      ],
      "metadata": {
        "id": "OLPaabg0MnN6"
      }
    },
    {
      "cell_type": "markdown",
      "source": [
        "## Gender vs score"
      ],
      "metadata": {
        "id": "o9JYAyDSyXvr"
      }
    },
    {
      "cell_type": "code",
      "source": [
        "scores = ['math_score', 'writing_score', 'reading_score']\n",
        "\n",
        "# Create a figure with subplots arranged in a row\n",
        "fig, axes = plt.subplots(2, len(scores), figsize=(18, 10), sharey='row')\n",
        "\n",
        "# Loop through each score and create the corresponding scatter plot and bar plot\n",
        "for idx, score in enumerate(scores):\n",
        "    # Scatter plot\n",
        "    ax_scatter = axes[0, idx]\n",
        "    sns.scatterplot(data=df, x=\"gender\", y=score, hue=\"gender\", ax=ax_scatter)\n",
        "    ax_scatter.set_title(f'Gender vs {score.capitalize()}')\n",
        "    ax_scatter.set_xlabel('Gender')\n",
        "    if idx == 0:\n",
        "        ax_scatter.set_ylabel('Score')\n",
        "    else:\n",
        "        ax_scatter.set_ylabel('')\n",
        "    ax_scatter.tick_params(axis='x', rotation=45)\n",
        "\n",
        "    # Bar plot\n",
        "    ax_bar = axes[1, idx]\n",
        "    avgs_score_gender = df.groupby('gender')[score].mean()\n",
        "    bar_plot = sns.barplot(x=avgs_score_gender.index, y=avgs_score_gender.values, ax=ax_bar)\n",
        "    ax_bar.set_title(f'{score.capitalize()} by Gender')\n",
        "    ax_bar.set_xlabel('Gender')\n",
        "    if idx == 0:\n",
        "        ax_bar.set_ylabel('Average Score')\n",
        "    else:\n",
        "        ax_bar.set_ylabel('')\n",
        "    # Add edge values to bar plots\n",
        "    for container in ax_bar.containers:\n",
        "        ax_bar.bar_label(container, label_type='edge')\n",
        "\n",
        "# Adjust layout to make room for labels and titles\n",
        "plt.tight_layout()\n",
        "plt.show()"
      ],
      "metadata": {
        "id": "8MSJVBO0g_EO"
      },
      "execution_count": null,
      "outputs": []
    },
    {
      "cell_type": "markdown",
      "source": [
        "Gender have great impact on writing_score. Average female writing score is 9,15 percent higher than average male"
      ],
      "metadata": {
        "id": "wmXksnK-y2Zv"
      }
    },
    {
      "cell_type": "markdown",
      "source": [
        "As plots shows lunch type have impact on exam results. Average score of people with standard lunch type **is higher by 8,6 percent**"
      ],
      "metadata": {
        "id": "TNJGUlCXL9W6"
      }
    },
    {
      "cell_type": "markdown",
      "source": [
        "### Lunch vs math_score"
      ],
      "metadata": {
        "id": "G67Zcia_OBVa"
      }
    },
    {
      "cell_type": "code",
      "source": [
        "g = sns.FacetGrid(df, hue=\"lunch\", height=5, aspect=1)\n",
        "\n",
        "# Map the scatter plot to the FacetGrid\n",
        "b =g.map(plt.scatter, \"lunch\", \"math_score\").add_legend()\n",
        "\n",
        "g.fig.suptitle(\"lunch vs math_score\", fontsize=15)\n",
        "plt.show()\n",
        "\n",
        "\n",
        "avgs_score_lunch = df.groupby('lunch')['math_score'].mean()\n",
        "plt.figure(figsize=(8, 6))\n",
        "bar_plot = sns.barplot(x=avgs_score_lunch.index, y=avgs_score_lunch.values)\n",
        "plt.title('math_score by Lunch Type')\n",
        "plt.xlabel('Lunch Type')\n",
        "plt.ylabel('math_score')\n",
        "#add edge values\n",
        "for container in bar_plot.containers:\n",
        "    bar_plot.bar_label(container, label_type='edge')\n",
        "plt.show()\n"
      ],
      "metadata": {
        "id": "z54Osv_POEXS"
      },
      "execution_count": null,
      "outputs": []
    },
    {
      "cell_type": "markdown",
      "source": [
        "The lunch type have great impact on performance in math exam. Average math score increases by **10,11** percent"
      ],
      "metadata": {
        "id": "skFZHl1_OYmP"
      }
    },
    {
      "cell_type": "markdown",
      "source": [],
      "metadata": {
        "id": "Ie-FxPbAOBO2"
      }
    },
    {
      "cell_type": "markdown",
      "source": [
        "## Lunch vs average score"
      ],
      "metadata": {
        "id": "X2IJL-W5BNjo"
      }
    },
    {
      "cell_type": "code",
      "source": [
        "g = sns.FacetGrid(df, hue=\"lunch\", height=5, aspect=1)\n",
        "\n",
        "# Map the scatter plot to the FacetGrid\n",
        "b =g.map(plt.scatter, \"lunch\", \"average_score\").add_legend()\n",
        "\n",
        "g.fig.suptitle(\"lunch vs average_score\", fontsize=15)\n",
        "plt.show()\n",
        "\n",
        "\n",
        "avgs_score_lunch = df.groupby('lunch')['average_score'].mean()\n",
        "plt.figure(figsize=(8, 6))\n",
        "bar_plot = sns.barplot(x=avgs_score_lunch.index, y=avgs_score_lunch.values)\n",
        "plt.title('Average Score by Lunch Type')\n",
        "plt.xlabel('Lunch Type')\n",
        "plt.ylabel('Average Score')\n",
        "#add edge values\n",
        "for container in bar_plot.containers:\n",
        "    bar_plot.bar_label(container, label_type='edge')\n",
        "plt.show()\n",
        "\n",
        "sns.histplot(data=df,x='average_score',kde=True,hue='lunch')\n",
        "plt.show()\n"
      ],
      "metadata": {
        "id": "rcxyN4QOBQ8Z"
      },
      "execution_count": null,
      "outputs": []
    },
    {
      "cell_type": "markdown",
      "source": [
        "## Test preparation vs exam scores"
      ],
      "metadata": {
        "id": "EE9OEm6TQToN"
      }
    },
    {
      "cell_type": "markdown",
      "source": [
        "Firstly, I will visualize writing score due to high correlation score (0.35), and then describe its impact on average score in exams"
      ],
      "metadata": {
        "id": "afy8omo0QYB6"
      }
    },
    {
      "cell_type": "markdown",
      "source": [
        "## Writing score vs test preparation"
      ],
      "metadata": {
        "id": "EWbsA9ZUO0fk"
      }
    },
    {
      "cell_type": "code",
      "source": [
        "g = sns.FacetGrid(df, hue=\"test_preparation_course\", height=5, aspect=1)\n",
        "\n",
        "# Map the scatter plot to the FacetGrid\n",
        "g.map(plt.scatter, \"test_preparation_course\", \"writing_score\").add_legend()\n",
        "\n",
        "g.fig.suptitle(\"test_preparation_course vs writing_score\", fontsize=15)\n",
        "plt.show()\n",
        "\n",
        "\n",
        "avgs_score_lunch = df.groupby('test_preparation_course')['writing_score'].mean()\n",
        "plt.figure(figsize=(8, 6))\n",
        "bar_plot = sns.barplot(x=avgs_score_lunch.index, y=avgs_score_lunch.values)\n",
        "plt.title('writing_score by test_preparation_course')\n",
        "plt.xlabel('test_preparation_course')\n",
        "plt.ylabel('writing_score')\n",
        "#add edge values\n",
        "for container in bar_plot.containers:\n",
        "    bar_plot.bar_label(container, label_type='edge')\n",
        "plt.show()\n"
      ],
      "metadata": {
        "id": "TI8T2caqPSO0"
      },
      "execution_count": null,
      "outputs": []
    },
    {
      "cell_type": "markdown",
      "source": [
        "Test preparation course have great impact on writing_score. It increase average result by **9.9** percent"
      ],
      "metadata": {
        "id": "-zmNP_RpQBnB"
      }
    },
    {
      "cell_type": "markdown",
      "source": [
        "## Race vs math_score"
      ],
      "metadata": {
        "id": "xrQ-RbJ7zaQD"
      }
    },
    {
      "cell_type": "markdown",
      "source": [
        "### Violin plot\n",
        "Violin plot is similar to box plot but shows density of data, so it combines the features of a box plot with a kernel density plot, which might be valuable to understand data well"
      ],
      "metadata": {
        "id": "YXLoRmDoFY7z"
      }
    },
    {
      "cell_type": "code",
      "source": [
        "figsize = (12, 1.2 * len(df['race_ethnicity'].unique()))\n",
        "plt.figure(figsize=figsize)\n",
        "sns.violinplot(df, x='math_score', hue='race_ethnicity', inner='box')\n",
        "sns.despine(top=True, right=True, bottom=True, left=True)"
      ],
      "metadata": {
        "id": "3v2Ed3y0EwrP"
      },
      "execution_count": null,
      "outputs": []
    },
    {
      "cell_type": "code",
      "source": [
        "math_score_race = df.groupby('race_ethnicity')['math_score'].mean()\n",
        "plt.figure(figsize=(8, 6))\n",
        "bar_plot = sns.barplot(x=math_score_race.index, y=math_score_race.values)\n",
        "plt.title('math_score by race')\n",
        "plt.xlabel('race_ethnicity')\n",
        "plt.ylabel('math_score')\n",
        "#add edge values\n",
        "for container in bar_plot.containers:\n",
        "    bar_plot.bar_label(container, label_type='edge')\n",
        "plt.show()"
      ],
      "metadata": {
        "id": "C2timrBRGPf0"
      },
      "execution_count": null,
      "outputs": []
    },
    {
      "cell_type": "markdown",
      "source": [
        "## Visualization summary\n",
        "\n",
        "\n",
        "\n"
      ],
      "metadata": {
        "id": "hNVAk_vfBAmU"
      }
    },
    {
      "cell_type": "markdown",
      "source": [
        "Visualization showed that important properites might be:\n",
        "\n",
        "for math_score:\n",
        "\n",
        "**race** : difference between the race with highest and lowest average math score is **12,2**\n",
        "\n",
        "**Lunch type** : Average math score increases by **11,11** percent. Student's with standard lunch performs better\n",
        "\n",
        "**Parental education** : The best performance in math exams have childrens whose parents have master's(69.38) or bachelor's(69,75) degree\n",
        "\n",
        "\n",
        "\n",
        "for writing_score:\n",
        "\n",
        "**test preparation curse** : Test preparation course have great impact on writing_score. It increase average result by ** 12.9** percent\n",
        "\n",
        "**lunch ** : Average score is incresed but not as much as in math score\n",
        "\n",
        "**gender** : Gender have great impact on writing_score. Average female writing score is **9,15** percent higher than average male\n",
        "\n",
        "\n",
        "for reading_score:\n",
        "**test preparation curse** : Test preparation course have great impact on writing_score. It increase average result by ** 12.4** percent\n",
        "\n",
        "**lunch ** : Average score is incresed but not as much as in math score\n",
        "\n",
        "**gender** : Gender have great impact on writing_score. Average female writing score is **9,15** percent higher than average male\n",
        "\n",
        "\n",
        "And also important are high correlaction beetwen results in every subject. The most correlated is reading vs writing (0.95)\n",
        "\n"
      ],
      "metadata": {
        "id": "MDppB9GaXyGQ"
      }
    },
    {
      "cell_type": "markdown",
      "source": [],
      "metadata": {
        "id": "Kd4C6Ya3kM0c"
      }
    },
    {
      "cell_type": "markdown",
      "source": [
        "# Choosing model\n",
        "Choosing the right model for dataset is crucial point of work. Let's cosider every aspect of data to choose correctly,\n",
        "\n",
        "1. Feature types - in this case there are both numerical and categoricial features, so decision tress might handle that\n",
        "2. Feature interractions -  features don't interact with each other in complex ways\n",
        "3. Feature importance - all feature seems to be equaly important\n",
        "4. Data size - there are 1000 objects so is big enough to use more complex methods\n",
        "5. Data distribution - the data visualization is similar to normal distribution\n",
        "6. Outliers - This section is questionable and hard to decide. For example, (bachelor's degree - 11.8%, master's degree - 5.9%, in a feature where are 6 possible values). However, at this point, no outliers will be assumed\n",
        "7. Noise - there are no noise\n",
        "8. Temporary data - This data is not time-dependent\n",
        "\n"
      ],
      "metadata": {
        "id": "VioYEjMythfV"
      }
    }
  ]
}